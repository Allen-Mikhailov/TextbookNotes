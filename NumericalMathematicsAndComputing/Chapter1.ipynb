{
 "cells": [
  {
   "cell_type": "markdown",
   "metadata": {},
   "source": [
    "Problems 1.1"
   ]
  },
  {
   "cell_type": "code",
   "execution_count": 82,
   "metadata": {},
   "outputs": [],
   "source": [
    "import math\n",
    "import numpy as np\n",
    "\n",
    "# Problem 1\n",
    "def approx_pi(max_error):\n",
    "    lower = 1\n",
    "    higher = 1\n",
    "\n",
    "    while (abs((higher/lower)-math.pi) > max_error):\n",
    "        if ((higher/lower) > math.pi):\n",
    "            lower += 1\n",
    "        else:\n",
    "            higher += 1\n",
    "\n",
    "    return [higher, lower]\n",
    "\n",
    "# Problem 2\n",
    "def get_possible_values_from_relative_error(x, error):\n",
    "    return [x/(error+1), x/(-error+1)]\n",
    "\n",
    "# Problem 3\n",
    "def relative_error(exact, approx):\n",
    "    return abs((exact-approx)/exact)\n",
    "\n",
    "# Problem 4\n",
    "def ways_to_compute_pi():\n",
    "    return [\n",
    "        math.acos(-1),\n",
    "        math.acos(0)*2,\n",
    "        math.atan2(0, -1),\n",
    "        math.atan2(1, 0)*2\n",
    "    ]\n",
    "\n",
    "def add_2d_matrix(matrix):\n",
    "    results = []\n",
    "    n = matrix.shape[0]\n",
    "\n",
    "    # a\n",
    "    a_result = 0\n",
    "    for i in range(0, n):\n",
    "        for j in range(0, n):\n",
    "            a_result += matrix[i, j]\n",
    "    results.append(a_result)\n",
    "\n",
    "    b_result = 0\n",
    "    for j in range(0, n):\n",
    "        for i in range(0, n):\n",
    "            b_result += matrix[i, j]\n",
    "    results.append(b_result)\n",
    "\n",
    "    c_result = 0\n",
    "    for i in range(0, n):\n",
    "        for j in range(0, i+1):\n",
    "            c_result += matrix[i, j]\n",
    "\n",
    "        for j in range(0, i):\n",
    "            c_result += matrix[j, i]\n",
    "    results.append(c_result)\n",
    "\n",
    "    d_result = 0\n",
    "    for k in range(0, n):\n",
    "        for l in range(0, n-k):\n",
    "            d_result += matrix[k+l, l]\n",
    "\n",
    "        if k == 0:\n",
    "            continue\n",
    "\n",
    "        for l in range(0, n-k):\n",
    "            d_result += matrix[l, k+l]\n",
    "\n",
    "\n",
    "    results.append(d_result)\n",
    "    \n",
    "    \n",
    "    e_result = 0\n",
    "    for k in range(0, 2*n-1):\n",
    "        i = min(k, n-1)\n",
    "        j = max(0, k-n+1)\n",
    "        for o in range(0, n-abs(k-n+1)):\n",
    "            e_result += matrix[i, j]\n",
    "            i -= 1\n",
    "            j += 1\n",
    "    results.append(e_result)\n",
    "    return results\n",
    "\n",
    "# Problem 6\n",
    "def polynomial_operations(n):\n",
    "    return n*2 # d+x(c+x(b+x(a)))"
   ]
  },
  {
   "cell_type": "markdown",
   "metadata": {
    "vscode": {
     "languageId": "latex"
    }
   },
   "source": [
    "**Problem 7**\n",
    "\n",
    "$(1+x)^2$ \\\n",
    "$x^2+2x+1$ \\\n",
    "$(x+2)x+1$"
   ]
  },
  {
   "cell_type": "markdown",
   "metadata": {},
   "source": [
    "**Problem 8**\n",
    "\n",
    "a. \\\n",
    "$p(x) = x^{32}$ &rarr; ${{{{x^2}^2}^2}^2}^2$\n",
    "\n",
    "b. \\\n",
    "$p(x) = 3(x-1)^5+7(x-1)^9$"
   ]
  },
  {
   "cell_type": "markdown",
   "metadata": {},
   "source": [
    "Tests for 1.1"
   ]
  },
  {
   "cell_type": "code",
   "execution_count": 83,
   "metadata": {},
   "outputs": [
    {
     "name": "stdout",
     "output_type": "stream",
     "text": [
      "approx_pi [75948, 24175]\n",
      "get_possible_values_from_relative_error [0.5972277227722772, 0.6092929292929292]\n",
      "relative_error 6.00000000000378e-05\n",
      "ways_to_compute_pi [3.141592653589793, 3.141592653589793, 3.141592653589793, 3.141592653589793]\n",
      "add_2d_matrix [45, 45, 45, 45, 45]\n"
     ]
    }
   ],
   "source": [
    "print(\"approx_pi\", approx_pi(.0000001))\n",
    "print(\"get_possible_values_from_relative_error\", get_possible_values_from_relative_error(0.6032, .01))\n",
    "print(\"relative_error\", relative_error(5, 4.9997))\n",
    "print(\"ways_to_compute_pi\", ways_to_compute_pi())\n",
    "print(\"add_2d_matrix\", add_2d_matrix(np.array([(1, 2, 3), (4, 5, 6), (7, 8, 9)])))\n",
    "print(\"polynomial_operations\", polynomial_operations(3))\n"
   ]
  }
 ],
 "metadata": {
  "kernelspec": {
   "display_name": "Python 3",
   "language": "python",
   "name": "python3"
  },
  "language_info": {
   "codemirror_mode": {
    "name": "ipython",
    "version": 3
   },
   "file_extension": ".py",
   "mimetype": "text/x-python",
   "name": "python",
   "nbconvert_exporter": "python",
   "pygments_lexer": "ipython3",
   "version": "3.10.4"
  }
 },
 "nbformat": 4,
 "nbformat_minor": 2
}
